{
 "cells": [
  {
   "cell_type": "code",
   "execution_count": 1,
   "id": "a48c0c57",
   "metadata": {},
   "outputs": [],
   "source": [
    "\n",
    "# Import libraries\n",
    "import pandas as pd\n",
    "from sklearn.model_selection import train_test_split\n",
    "from sklearn.feature_extraction.text import CountVectorizer\n",
    "from sklearn.linear_model import LogisticRegression\n",
    "from sklearn.metrics import accuracy_score\n",
    "\n",
    "import matplotlib.pyplot as plt\n",
    "from sklearn.metrics import roc_curve, roc_auc_score\n",
    "from sklearn.ensemble import RandomForestClassifier\n",
    "\n",
    "import re\n",
    "import nltk\n",
    "from nltk.corpus import stopwords\n",
    "from nltk.stem.porter import PorterStemmer\n"
   ]
  },
  {
   "cell_type": "code",
   "execution_count": 2,
   "id": "79efca43",
   "metadata": {},
   "outputs": [],
   "source": [
    "\n",
    "# Load data\n",
    "essays = pd.read_csv('train_essays.csv')\n"
   ]
  },
  {
   "cell_type": "code",
   "execution_count": 3,
   "id": "dce6d356",
   "metadata": {},
   "outputs": [],
   "source": [
    "\n",
    "def preprocess_text(text):\n",
    "    # Convert text to lowercase\n",
    "    text = text.lower()\n",
    "    \n",
    "    # Remove special characters\n",
    "    text = re.sub(r'\\W', ' ', text)\n",
    "    \n",
    "    # Remove numbers\n",
    "    text = re.sub(r'\\d', ' ', text)\n",
    "    \n",
    "    # Remove single characters\n",
    "    text = re.sub(r'\\s+[a-zA-Z]\\s+', ' ', text)\n",
    "    \n",
    "    # Substitute multiple spaces with a single space\n",
    "    text = re.sub(r'\\s+', ' ', text, flags=re.I)\n",
    "    \n",
    "    # Remove leading and trailing spaces\n",
    "    text = text.strip()\n",
    "    \n",
    "    # Tokenize the text\n",
    "    tokens = text.split()\n",
    "    \n",
    "    # Remove stopwords and stem the words\n",
    "    stemmer = PorterStemmer()\n",
    "    tokens = [stemmer.stem(word) for word in tokens if word not in stopwords.words('english')]\n",
    "    \n",
    "    return ' '.join(tokens)\n"
   ]
  },
  {
   "cell_type": "code",
   "execution_count": 4,
   "id": "83f1fb16",
   "metadata": {},
   "outputs": [
    {
     "name": "stdout",
     "output_type": "stream",
     "text": [
      "Number of preprocessed texts: 1378\n"
     ]
    }
   ],
   "source": [
    "\n",
    "# Preprocess data\n",
    "essays['cleaned_text'] = essays['text'].apply(preprocess_text)\n",
    "\n",
    "\n",
    "# Print the number of preprocessed texts\n",
    "print(f\"Number of preprocessed texts: {len(essays['cleaned_text'])}\")\n",
    "\n",
    "# Split constants and variable\n",
    "X = essays[['id', 'prompt_id', 'cleaned_text']]\n",
    "y = essays['generated']\n"
   ]
  },
  {
   "cell_type": "code",
   "execution_count": 5,
   "id": "247a9157",
   "metadata": {},
   "outputs": [],
   "source": [
    "\n",
    "# Split data into training and test sets\n",
    "X_train, X_test, y_train, y_test = train_test_split(X, y, test_size=0.2, random_state=42, stratify=y)\n",
    "\n",
    "# Vectorize the text data\n",
    "vectorizer = CountVectorizer()\n",
    "X_train_vec = vectorizer.fit_transform(X_train['cleaned_text'])\n",
    "X_test_vec = vectorizer.transform(X_test['cleaned_text'])\n",
    "\n",
    "# Create an instance of classifier and train\n",
    "model = RandomForestClassifier(n_estimators=100, random_state=42)\n",
    "# model = LogisticRegression()\n",
    "model.fit(X_train_vec, y_train)\n",
    "\n",
    "# Make predictions\n",
    "predictions = model.predict(X_test_vec)\n"
   ]
  },
  {
   "cell_type": "code",
   "execution_count": 6,
   "id": "0b0c3663",
   "metadata": {},
   "outputs": [
    {
     "name": "stdout",
     "output_type": "stream",
     "text": [
      "            id  actual  predicted\n",
      "216   2bf52db3       0          0\n",
      "345   43f2fd5a       0          0\n",
      "872   9d3a9a2c       0          0\n",
      "1316  f404b91b       0          0\n",
      "241   30181dbc       0          0\n",
      "...        ...     ...        ...\n",
      "441   575e5af1       0          0\n",
      "1260  eaea47df       0          0\n",
      "95    1539183b       0          0\n",
      "1336  f7e59043       0          0\n",
      "1335  f7aa848d       0          0\n",
      "\n",
      "[276 rows x 3 columns]\n"
     ]
    }
   ],
   "source": [
    "\n",
    "# Add predictions to X_test\n",
    "X_test['predicted'] = predictions\n",
    "X_test['actual'] = y_test\n",
    "\n",
    "# Compare actual and predicted values\n",
    "comparison = X_test[['id', 'actual', 'predicted']]\n",
    "print(comparison)\n"
   ]
  },
  {
   "cell_type": "code",
   "execution_count": 7,
   "id": "ad96567f",
   "metadata": {},
   "outputs": [
    {
     "name": "stdout",
     "output_type": "stream",
     "text": [
      "            id  prompt_id                                       cleaned_text  \\\n",
      "216   2bf52db3          0  car use machin get around may realiz mani prob...   \n",
      "345   43f2fd5a          1  lot discuss whether keep elector colleg electo...   \n",
      "872   9d3a9a2c          0  car usual peopl everi day live drive work scho...   \n",
      "1316  f404b91b          0  world live mani peopl use car get around like ...   \n",
      "241   30181dbc          1  elector colleg way us unit state citizen vote ...   \n",
      "...        ...        ...                                                ...   \n",
      "441   575e5af1          1  lot disput elector colleg therefor caus much c...   \n",
      "1260  eaea47df          0  citi vauban germani pari franc bogota colombia...   \n",
      "95    1539183b          0  world live today car use peopl nearli everyday...   \n",
      "1336  f7e59043          0  car everyday averag citizen use car get around...   \n",
      "1335  f7aa848d          1  dear senat favor elector colleg elector colleg...   \n",
      "\n",
      "      predicted  actual  prob_0  prob_1  predicted_70  confidence  \\\n",
      "216           0       0    1.00    0.00             0        1.00   \n",
      "345           0       0    1.00    0.00             0        1.00   \n",
      "872           0       0    1.00    0.00             0        1.00   \n",
      "1316          0       0    1.00    0.00             0        1.00   \n",
      "241           0       0    1.00    0.00             0        1.00   \n",
      "...         ...     ...     ...     ...           ...         ...   \n",
      "441           0       0    1.00    0.00             0        1.00   \n",
      "1260          0       0    1.00    0.00             0        1.00   \n",
      "95            0       0    1.00    0.00             0        1.00   \n",
      "1336          0       0    1.00    0.00             0        1.00   \n",
      "1335          0       0    0.98    0.02             0        0.98   \n",
      "\n",
      "      correctly_classified  \n",
      "216                   True  \n",
      "345                   True  \n",
      "872                   True  \n",
      "1316                  True  \n",
      "241                   True  \n",
      "...                    ...  \n",
      "441                   True  \n",
      "1260                  True  \n",
      "95                    True  \n",
      "1336                  True  \n",
      "1335                  True  \n",
      "\n",
      "[276 rows x 10 columns]\n"
     ]
    }
   ],
   "source": [
    "\n",
    "# Get class probabilities\n",
    "probabilities = model.predict_proba(X_test_vec)\n",
    "\n",
    "# Add probabilities to X_test\n",
    "X_test['prob_0'] = probabilities[:, 0]\n",
    "X_test['prob_1'] = probabilities[:, 1]\n",
    "\n",
    "# Threshold Analysis\n",
    "threshold = 0.6\n",
    "X_test['predicted_70'] = (X_test['prob_1'] > threshold).astype(int)\n",
    "\n",
    "# Confidence Levels\n",
    "X_test['confidence'] = X_test[['prob_0', 'prob_1']].max(axis=1)\n",
    "\n",
    "# Misclassified Samples Analysis\n",
    "X_test['correctly_classified'] = X_test['predicted'] == X_test['actual']\n",
    "\n",
    "\n",
    "print(X_test)\n"
   ]
  },
  {
   "cell_type": "code",
   "execution_count": 8,
   "id": "8b32822a",
   "metadata": {},
   "outputs": [],
   "source": [
    "\n",
    "# AUC - ROC curve\n",
    "def plot_roc(y_true, y_score, label, ax):\n",
    "    fpr, tpr, thresholds = roc_curve(y_true, y_score)\n",
    "    ax.plot(fpr, tpr)\n",
    "    ax.plot([0, 1], [0, 1], color='black', linestyle='--')\n",
    "    ax.set_ylabel('TPR')\n",
    "    ax.set_xlabel('FPR')\n",
    "    ax.set_title(f\"{label} AUC = {roc_auc_score(y_true, y_score):.2f}\")\n",
    "\n"
   ]
  },
  {
   "cell_type": "code",
   "execution_count": 9,
   "id": "6e245bcc",
   "metadata": {},
   "outputs": [
    {
     "data": {
      "image/png": "[encoded data removed]",
      "text/plain": [
       "<Figure size 600x600 with 2 Axes>"
      ]
     },
     "metadata": {},
     "output_type": "display_data"
    }
   ],
   "source": [
    "\n",
    "# auc-roc curve chart for training set\n",
    "fig, ax = plt.subplots(1, 2, figsize=(6, 6))\n",
    "\n",
    "plot_roc(y_test, predictions, [y], ax=ax[0])\n",
    "\n",
    "fig.tight_layout()\n",
    "plt.show()\n"
   ]
  },
  {
   "cell_type": "code",
   "execution_count": 10,
   "id": "1cea4a39",
   "metadata": {},
   "outputs": [
    {
     "name": "stdout",
     "output_type": "stream",
     "text": [
      "Accuracy: 99.64 %\n"
     ]
    }
   ],
   "source": [
    "\n",
    "# Evaluate your model\n",
    "print(f'Accuracy: {accuracy_score(y_test, predictions) * 100:.2f} %')\n"
   ]
  },
  {
   "cell_type": "code",
   "execution_count": 12,
   "id": "b96dd87e",
   "metadata": {},
   "outputs": [],
   "source": [
    "\n",
    "# Load test essay\n",
    "test_essays = pd.read_csv('test_essays.csv')\n",
    "\n",
    "# Preprocess the text data in test_essays\n",
    "test_essays['cleaned_text'] = test_essays['text'].apply(preprocess_text)\n",
    "\n",
    "# Vectorize the cleaned_text in test_essays using the same vectorizer fitted on X_train\n",
    "test_essays_vec = vectorizer.transform(test_essays['cleaned_text'])\n",
    "\n",
    "# Make predictions\n",
    "test_predictions = model.predict(test_essays_vec)\n",
    "\n",
    "# Add predictions to test_essays\n",
    "test_essays['predicted'] = test_predictions\n"
   ]
  },
  {
   "cell_type": "code",
   "execution_count": 13,
   "id": "0e397e6e",
   "metadata": {},
   "outputs": [
    {
     "name": "stdout",
     "output_type": "stream",
     "text": [
      "         id  prompt_id          text cleaned_text  predicted\n",
      "0  0000aaaa          2  Aaa bbb ccc.  aaa bbb ccc          0\n",
      "1  1111bbbb          3  Bbb ccc ddd.  bbb ccc ddd          0\n",
      "2  2222cccc          4  CCC ddd eee.  ccc ddd eee          0\n"
     ]
    }
   ],
   "source": [
    "print(test_essays)"
   ]
  }
 ],
 "metadata": {
  "kernelspec": {
   "display_name": "Python 3 (ipykernel)",
   "language": "python",
   "name": "python3"
  },
  "language_info": {
   "codemirror_mode": {
    "name": "ipython",
    "version": 3
   },
   "file_extension": ".py",
   "mimetype": "text/x-python",
   "name": "python",
   "nbconvert_exporter": "python",
   "pygments_lexer": "ipython3",
   "version": "3.10.9"
  }
 },
 "nbformat": 4,
 "nbformat_minor": 5
}
