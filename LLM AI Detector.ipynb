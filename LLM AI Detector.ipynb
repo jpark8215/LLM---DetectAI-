{
 "cells": [
  {
   "cell_type": "code",
   "execution_count": 1,
   "id": "a48c0c57",
   "metadata": {},
   "outputs": [],
   "source": [
    "\n",
    "# Import necessary libraries\n",
    "import pandas as pd\n",
    "from sklearn.model_selection import train_test_split\n",
    "from sklearn.feature_extraction.text import CountVectorizer\n",
    "from sklearn.linear_model import LogisticRegression\n",
    "from sklearn.metrics import accuracy_score\n",
    "\n",
    "import re\n",
    "import nltk\n",
    "from nltk.corpus import stopwords\n",
    "from nltk.stem.porter import PorterStemmer\n",
    "import matplotlib.pyplot as plt\n",
    "from sklearn.metrics import roc_curve, roc_auc_score"
   ]
  },
  {
   "cell_type": "code",
   "execution_count": 2,
   "id": "79efca43",
   "metadata": {},
   "outputs": [],
   "source": [
    "\n",
    "# Load your data\n",
    "essays = pd.read_csv('train_essays.csv')\n"
   ]
  },
  {
   "cell_type": "code",
   "execution_count": 3,
   "id": "dce6d356",
   "metadata": {},
   "outputs": [],
   "source": [
    "\n",
    "def preprocess_text(text):\n",
    "    # Convert text to lowercase\n",
    "    text = text.lower()\n",
    "    \n",
    "    # Remove special characters\n",
    "    text = re.sub(r'\\W', ' ', text)\n",
    "    \n",
    "    # Remove numbers\n",
    "    text = re.sub(r'\\d', ' ', text)\n",
    "    \n",
    "    # Remove single characters\n",
    "    text = re.sub(r'\\s+[a-zA-Z]\\s+', ' ', text)\n",
    "    \n",
    "    # Substitute multiple spaces with a single space\n",
    "    text = re.sub(r'\\s+', ' ', text, flags=re.I)\n",
    "    \n",
    "    # Remove leading and trailing spaces\n",
    "    text = text.strip()\n",
    "    \n",
    "    # Tokenize the text\n",
    "    tokens = text.split()\n",
    "    \n",
    "    # Remove stopwords and stem the words\n",
    "    stemmer = PorterStemmer()\n",
    "    tokens = [stemmer.stem(word) for word in tokens if word not in stopwords.words('english')]\n",
    "    \n",
    "    return ' '.join(tokens)\n"
   ]
  },
  {
   "cell_type": "code",
   "execution_count": null,
   "id": "83f1fb16",
   "metadata": {},
   "outputs": [],
   "source": [
    "\n",
    "# Preprocess your data\n",
    "essays['cleaned_text'] = essays['text'].apply(preprocess_text)\n",
    "\n",
    "\n",
    "# Print the number of preprocessed texts\n",
    "print(f\"Number of preprocessed texts: {len(essays['cleaned_text'])}\")\n",
    "\n",
    "\n",
    "X = essays[['id', 'prompt_id', 'cleaned_text']]\n",
    "y = essays['generated']\n"
   ]
  },
  {
   "cell_type": "code",
   "execution_count": null,
   "id": "13daea0b",
   "metadata": {},
   "outputs": [],
   "source": [
    "# Split your data into training and test sets\n",
    "X_train, X_test, y_train, y_test = train_test_split(X, y, test_size=0.2, random_state=42)\n",
    "\n",
    "\n",
    "# Vectorize the text data\n",
    "vectorizer = CountVectorizer()\n",
    "X_train_vec = vectorizer.fit_transform(X_train['cleaned_text'])\n",
    "X_test_vec = vectorizer.transform(X_test['cleaned_text'])\n",
    "\n",
    "\n",
    "# Train your model\n",
    "model = LogisticRegression()\n",
    "model.fit(X_train_vec, y_train)\n",
    "\n",
    "\n",
    "# Make predictions\n",
    "predictions = model.predict(X_test_vec)\n",
    "\n",
    "\n",
    "# Add predictions to X_test\n",
    "X_test['predicted'] = predictions\n",
    "X_test['actual'] = y_test\n"
   ]
  },
  {
   "cell_type": "code",
   "execution_count": null,
   "id": "3221e77e",
   "metadata": {},
   "outputs": [],
   "source": [
    "\n",
    "# Compare actual and predicted values\n",
    "comparison = X_test[['id', 'actual', 'predicted']]\n",
    "print(comparison)\n"
   ]
  },
  {
   "cell_type": "code",
   "execution_count": null,
   "id": "9106f2a0",
   "metadata": {},
   "outputs": [],
   "source": [
    "\n",
    "# Get class probabilities\n",
    "probabilities = model.predict_proba(X_test_vec)\n",
    "\n",
    "# Add probabilities to X_test\n",
    "X_test['prob_0'] = probabilities[:, 0]\n",
    "X_test['prob_1'] = probabilities[:, 1]\n",
    "\n",
    "X_test['avg_prob'] = X_test[['prob_0', 'prob_1']].mean(axis=1)\n",
    "\n",
    "\n",
    "print(X_test)"
   ]
  },
  {
   "cell_type": "code",
   "execution_count": null,
   "id": "3c903c0e",
   "metadata": {},
   "outputs": [],
   "source": [
    "\n",
    "# AUC - ROC curve\n",
    "def plot_roc(y_true, y_score, label, ax):\n",
    "    fpr, tpr, thresholds = roc_curve(y_true, y_score)\n",
    "    ax.plot(fpr, tpr)\n",
    "    ax.plot([0, 1], [0, 1], color='black', linestyle='--')\n",
    "    ax.set_ylabel('TPR')\n",
    "    ax.set_xlabel('FPR')\n",
    "    ax.set_title(f\"{label} AUC = {roc_auc_score(y_true, y_score):.2f}\")\n",
    "\n"
   ]
  },
  {
   "cell_type": "code",
   "execution_count": null,
   "id": "72a3e7f9",
   "metadata": {},
   "outputs": [],
   "source": [
    "\n",
    "# auc-roc curve chart for training set\n",
    "fig, ax = plt.subplots(1, 2, figsize=(6, 3))\n",
    "\n",
    "plot_roc(y_test, predictions, [y], ax=ax[0])\n",
    "\n",
    "fig.tight_layout()\n",
    "plt.show()\n"
   ]
  },
  {
   "cell_type": "code",
   "execution_count": null,
   "id": "1cea4a39",
   "metadata": {},
   "outputs": [],
   "source": [
    "\n",
    "# Evaluate your model\n",
    "print(f'Accuracy: {accuracy_score(y_test, predictions) * 100:.2f} %')\n"
   ]
  },
  {
   "cell_type": "code",
   "execution_count": null,
   "id": "c09de8de",
   "metadata": {},
   "outputs": [],
   "source": []
  }
 ],
 "metadata": {
  "kernelspec": {
   "display_name": "Python 3 (ipykernel)",
   "language": "python",
   "name": "python3"
  },
  "language_info": {
   "codemirror_mode": {
    "name": "ipython",
    "version": 3
   },
   "file_extension": ".py",
   "mimetype": "text/x-python",
   "name": "python",
   "nbconvert_exporter": "python",
   "pygments_lexer": "ipython3",
   "version": "3.10.9"
  }
 },
 "nbformat": 4,
 "nbformat_minor": 5
}
